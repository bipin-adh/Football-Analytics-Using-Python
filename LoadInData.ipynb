{
 "cells": [
  {
   "cell_type": "markdown",
   "metadata": {},
   "source": [
    "# Data is used from Statsbomb (competitions , events , matches):\n",
    "\n",
    "* competitions - eg : UCL , worldcup , etc\n",
    "* matches - take in competition id and see the matches of the required competition.\n",
    "* events - take match id and visualize and analyze all the detailed events of every min (passes, shots,build up play,etc)"
   ]
  },
  {
   "cell_type": "code",
   "execution_count": 110,
   "metadata": {},
   "outputs": [],
   "source": [
    "import json\n",
    "import pandas as pd\n",
    "import matplotlib.pyplot as plt\n",
    "import numpy as np"
   ]
  },
  {
   "cell_type": "code",
   "execution_count": 111,
   "metadata": {},
   "outputs": [],
   "source": [
    "BASE_DIR = '/home/bpn8adh/My-Football-Analytics-Python/statsbomb-data/open-data/data'"
   ]
  },
  {
   "cell_type": "code",
   "execution_count": 112,
   "metadata": {},
   "outputs": [],
   "source": [
    "# Load the competition file .\n",
    "with open(BASE_DIR +'/competitions.json') as f:\n",
    "    competitions = json.load(f)"
   ]
  },
  {
   "cell_type": "code",
   "execution_count": 113,
   "metadata": {},
   "outputs": [],
   "source": [
    "# competitions"
   ]
  },
  {
   "cell_type": "code",
   "execution_count": 114,
   "metadata": {},
   "outputs": [],
   "source": [
    "competitions_df = pd.read_json(BASE_DIR + '/competitions.json')"
   ]
  },
  {
   "cell_type": "code",
   "execution_count": 115,
   "metadata": {},
   "outputs": [
    {
     "data": {
      "text/html": [
       "<div>\n",
       "<style scoped>\n",
       "    .dataframe tbody tr th:only-of-type {\n",
       "        vertical-align: middle;\n",
       "    }\n",
       "\n",
       "    .dataframe tbody tr th {\n",
       "        vertical-align: top;\n",
       "    }\n",
       "\n",
       "    .dataframe thead th {\n",
       "        text-align: right;\n",
       "    }\n",
       "</style>\n",
       "<table border=\"1\" class=\"dataframe\">\n",
       "  <thead>\n",
       "    <tr style=\"text-align: right;\">\n",
       "      <th></th>\n",
       "      <th>competition_id</th>\n",
       "      <th>season_id</th>\n",
       "      <th>country_name</th>\n",
       "      <th>competition_name</th>\n",
       "      <th>competition_gender</th>\n",
       "      <th>season_name</th>\n",
       "      <th>match_updated</th>\n",
       "      <th>match_available</th>\n",
       "    </tr>\n",
       "  </thead>\n",
       "  <tbody>\n",
       "    <tr>\n",
       "      <th>0</th>\n",
       "      <td>16</td>\n",
       "      <td>4</td>\n",
       "      <td>Europe</td>\n",
       "      <td>Champions League</td>\n",
       "      <td>male</td>\n",
       "      <td>2018/2019</td>\n",
       "      <td>2020-02-27T12:19:39.458017</td>\n",
       "      <td>2020-02-27T12:19:39.458017</td>\n",
       "    </tr>\n",
       "    <tr>\n",
       "      <th>1</th>\n",
       "      <td>16</td>\n",
       "      <td>1</td>\n",
       "      <td>Europe</td>\n",
       "      <td>Champions League</td>\n",
       "      <td>male</td>\n",
       "      <td>2017/2018</td>\n",
       "      <td>2020-06-11T01:24:40.306618</td>\n",
       "      <td>2020-06-11T01:24:40.306618</td>\n",
       "    </tr>\n",
       "    <tr>\n",
       "      <th>2</th>\n",
       "      <td>16</td>\n",
       "      <td>2</td>\n",
       "      <td>Europe</td>\n",
       "      <td>Champions League</td>\n",
       "      <td>male</td>\n",
       "      <td>2016/2017</td>\n",
       "      <td>2020-06-10T22:06:56.555602</td>\n",
       "      <td>2020-06-10T22:06:56.555602</td>\n",
       "    </tr>\n",
       "    <tr>\n",
       "      <th>3</th>\n",
       "      <td>16</td>\n",
       "      <td>27</td>\n",
       "      <td>Europe</td>\n",
       "      <td>Champions League</td>\n",
       "      <td>male</td>\n",
       "      <td>2015/2016</td>\n",
       "      <td>2020-06-10T20:02:56.222690</td>\n",
       "      <td>2020-06-10T20:02:56.222690</td>\n",
       "    </tr>\n",
       "    <tr>\n",
       "      <th>4</th>\n",
       "      <td>16</td>\n",
       "      <td>26</td>\n",
       "      <td>Europe</td>\n",
       "      <td>Champions League</td>\n",
       "      <td>male</td>\n",
       "      <td>2014/2015</td>\n",
       "      <td>2020-06-10T17:04:18.637515</td>\n",
       "      <td>2020-06-10T17:04:18.637515</td>\n",
       "    </tr>\n",
       "  </tbody>\n",
       "</table>\n",
       "</div>"
      ],
      "text/plain": [
       "   competition_id  season_id country_name  competition_name  \\\n",
       "0              16          4       Europe  Champions League   \n",
       "1              16          1       Europe  Champions League   \n",
       "2              16          2       Europe  Champions League   \n",
       "3              16         27       Europe  Champions League   \n",
       "4              16         26       Europe  Champions League   \n",
       "\n",
       "  competition_gender season_name               match_updated  \\\n",
       "0               male   2018/2019  2020-02-27T12:19:39.458017   \n",
       "1               male   2017/2018  2020-06-11T01:24:40.306618   \n",
       "2               male   2016/2017  2020-06-10T22:06:56.555602   \n",
       "3               male   2015/2016  2020-06-10T20:02:56.222690   \n",
       "4               male   2014/2015  2020-06-10T17:04:18.637515   \n",
       "\n",
       "              match_available  \n",
       "0  2020-02-27T12:19:39.458017  \n",
       "1  2020-06-11T01:24:40.306618  \n",
       "2  2020-06-10T22:06:56.555602  \n",
       "3  2020-06-10T20:02:56.222690  \n",
       "4  2020-06-10T17:04:18.637515  "
      ]
     },
     "execution_count": 115,
     "metadata": {},
     "output_type": "execute_result"
    }
   ],
   "source": [
    "competitions_df[competitions_df['competition_name'] == 'Champions League'].head()"
   ]
  },
  {
   "cell_type": "code",
   "execution_count": 116,
   "metadata": {},
   "outputs": [],
   "source": [
    "# UEFA Champions League 2018/2019 has competition ID = 16\n",
    "competition_id = 16"
   ]
  },
  {
   "cell_type": "code",
   "execution_count": 117,
   "metadata": {},
   "outputs": [],
   "source": [
    "# Load spurs vs liverpool json file from the list of final matches(json) of Champions League. \n",
    "\n",
    "matches = pd.read_json(BASE_DIR+'/matches/'+\n",
    "                      str(competition_id)+'/4.json')"
   ]
  },
  {
   "cell_type": "code",
   "execution_count": 118,
   "metadata": {},
   "outputs": [
    {
     "data": {
      "text/html": [
       "<div>\n",
       "<style scoped>\n",
       "    .dataframe tbody tr th:only-of-type {\n",
       "        vertical-align: middle;\n",
       "    }\n",
       "\n",
       "    .dataframe tbody tr th {\n",
       "        vertical-align: top;\n",
       "    }\n",
       "\n",
       "    .dataframe thead th {\n",
       "        text-align: right;\n",
       "    }\n",
       "</style>\n",
       "<table border=\"1\" class=\"dataframe\">\n",
       "  <thead>\n",
       "    <tr style=\"text-align: right;\">\n",
       "      <th></th>\n",
       "      <th>match_id</th>\n",
       "      <th>match_date</th>\n",
       "      <th>kick_off</th>\n",
       "      <th>competition</th>\n",
       "      <th>season</th>\n",
       "      <th>home_team</th>\n",
       "      <th>away_team</th>\n",
       "      <th>home_score</th>\n",
       "      <th>away_score</th>\n",
       "      <th>match_status</th>\n",
       "      <th>last_updated</th>\n",
       "      <th>metadata</th>\n",
       "      <th>match_week</th>\n",
       "      <th>competition_stage</th>\n",
       "    </tr>\n",
       "  </thead>\n",
       "  <tbody>\n",
       "    <tr>\n",
       "      <th>0</th>\n",
       "      <td>22912</td>\n",
       "      <td>2019-06-01</td>\n",
       "      <td>21:00:00.000</td>\n",
       "      <td>{'competition_id': 16, 'country_name': 'Europe...</td>\n",
       "      <td>{'season_id': 4, 'season_name': '2018/2019'}</td>\n",
       "      <td>{'home_team_id': 38, 'home_team_name': 'Totten...</td>\n",
       "      <td>{'away_team_id': 24, 'away_team_name': 'Liverp...</td>\n",
       "      <td>0</td>\n",
       "      <td>2</td>\n",
       "      <td>available</td>\n",
       "      <td>2019-12-16T23:09:16.168756</td>\n",
       "      <td>{'data_version': '1.1.0', 'shot_fidelity_versi...</td>\n",
       "      <td>13</td>\n",
       "      <td>{'id': 26, 'name': 'Final'}</td>\n",
       "    </tr>\n",
       "  </tbody>\n",
       "</table>\n",
       "</div>"
      ],
      "text/plain": [
       "   match_id  match_date      kick_off  \\\n",
       "0     22912  2019-06-01  21:00:00.000   \n",
       "\n",
       "                                         competition  \\\n",
       "0  {'competition_id': 16, 'country_name': 'Europe...   \n",
       "\n",
       "                                         season  \\\n",
       "0  {'season_id': 4, 'season_name': '2018/2019'}   \n",
       "\n",
       "                                           home_team  \\\n",
       "0  {'home_team_id': 38, 'home_team_name': 'Totten...   \n",
       "\n",
       "                                           away_team  home_score  away_score  \\\n",
       "0  {'away_team_id': 24, 'away_team_name': 'Liverp...           0           2   \n",
       "\n",
       "  match_status                last_updated  \\\n",
       "0    available  2019-12-16T23:09:16.168756   \n",
       "\n",
       "                                            metadata  match_week  \\\n",
       "0  {'data_version': '1.1.0', 'shot_fidelity_versi...          13   \n",
       "\n",
       "             competition_stage  \n",
       "0  {'id': 26, 'name': 'Final'}  "
      ]
     },
     "execution_count": 118,
     "metadata": {},
     "output_type": "execute_result"
    }
   ],
   "source": [
    "matches"
   ]
  },
  {
   "cell_type": "code",
   "execution_count": 119,
   "metadata": {},
   "outputs": [
    {
     "data": {
      "text/plain": [
       "22912"
      ]
     },
     "execution_count": 119,
     "metadata": {},
     "output_type": "execute_result"
    }
   ],
   "source": [
    "# Champions league final id : Spurs vs Liverpool\n",
    "match_id = matches['match_id'][0]\n",
    "match_id"
   ]
  },
  {
   "cell_type": "code",
   "execution_count": 120,
   "metadata": {},
   "outputs": [],
   "source": [
    "#  list(matches['away_team'])"
   ]
  },
  {
   "cell_type": "markdown",
   "metadata": {},
   "source": [
    "# Start Match Analysis:\n",
    "\n",
    "* Importing FcPython code for pitch drawing.\n",
    "* length = 120 yards , width = 80 yards (Statsbomb data default pitch unit is in yards. While metrica sports is in metres.)"
   ]
  },
  {
   "cell_type": "code",
   "execution_count": 121,
   "metadata": {},
   "outputs": [],
   "source": [
    "# Size of the pitch in yards.\n",
    "pitchLengthX = 120\n",
    "pitchWidthY = 80"
   ]
  },
  {
   "cell_type": "code",
   "execution_count": 122,
   "metadata": {},
   "outputs": [],
   "source": [
    "home_team_required = \"Liverpool\"\n",
    "away_team_required = \"Tottenham Hotspur\""
   ]
  },
  {
   "cell_type": "code",
   "execution_count": 123,
   "metadata": {},
   "outputs": [],
   "source": [
    "# Load in all match events data.\n",
    "spursVsLfc_match = str(match_id)+'.json' "
   ]
  },
  {
   "cell_type": "code",
   "execution_count": 14,
   "metadata": {},
   "outputs": [],
   "source": [
    "# print('/home/bpn8adh/My-Football-Analytics-Python/statsbomb-data/open-data/data/events/'+ str(match_id)+'.json')\n",
    "events_df = pd.read_json('/h/events/'+spursVsLfc_match)"
   ]
  },
  {
   "cell_type": "code",
   "execution_count": 15,
   "metadata": {},
   "outputs": [
    {
     "data": {
      "text/html": [
       "<div>\n",
       "<style scoped>\n",
       "    .dataframe tbody tr th:only-of-type {\n",
       "        vertical-align: middle;\n",
       "    }\n",
       "\n",
       "    .dataframe tbody tr th {\n",
       "        vertical-align: top;\n",
       "    }\n",
       "\n",
       "    .dataframe thead th {\n",
       "        text-align: right;\n",
       "    }\n",
       "</style>\n",
       "<table border=\"1\" class=\"dataframe\">\n",
       "  <thead>\n",
       "    <tr style=\"text-align: right;\">\n",
       "      <th></th>\n",
       "      <th>id</th>\n",
       "      <th>index</th>\n",
       "      <th>period</th>\n",
       "      <th>timestamp</th>\n",
       "      <th>minute</th>\n",
       "      <th>second</th>\n",
       "      <th>type</th>\n",
       "      <th>possession</th>\n",
       "      <th>possession_team</th>\n",
       "      <th>play_pattern</th>\n",
       "      <th>...</th>\n",
       "      <th>clearance</th>\n",
       "      <th>foul_won</th>\n",
       "      <th>interception</th>\n",
       "      <th>ball_recovery</th>\n",
       "      <th>counterpress</th>\n",
       "      <th>out</th>\n",
       "      <th>dribble</th>\n",
       "      <th>50_50</th>\n",
       "      <th>substitution</th>\n",
       "      <th>block</th>\n",
       "    </tr>\n",
       "  </thead>\n",
       "  <tbody>\n",
       "    <tr>\n",
       "      <th>0</th>\n",
       "      <td>c4341845-358d-43e7-9af4-9a39aa1d90f1</td>\n",
       "      <td>1</td>\n",
       "      <td>1</td>\n",
       "      <td>2020-07-02</td>\n",
       "      <td>0</td>\n",
       "      <td>0</td>\n",
       "      <td>{'id': 35, 'name': 'Starting XI'}</td>\n",
       "      <td>1</td>\n",
       "      <td>{'id': 38, 'name': 'Tottenham Hotspur'}</td>\n",
       "      <td>{'id': 1, 'name': 'Regular Play'}</td>\n",
       "      <td>...</td>\n",
       "      <td>NaN</td>\n",
       "      <td>NaN</td>\n",
       "      <td>NaN</td>\n",
       "      <td>NaN</td>\n",
       "      <td>NaN</td>\n",
       "      <td>NaN</td>\n",
       "      <td>NaN</td>\n",
       "      <td>NaN</td>\n",
       "      <td>NaN</td>\n",
       "      <td>NaN</td>\n",
       "    </tr>\n",
       "    <tr>\n",
       "      <th>1</th>\n",
       "      <td>6001a7ed-2c00-4cb4-ba33-7ac2b7d07c40</td>\n",
       "      <td>2</td>\n",
       "      <td>1</td>\n",
       "      <td>2020-07-02</td>\n",
       "      <td>0</td>\n",
       "      <td>0</td>\n",
       "      <td>{'id': 35, 'name': 'Starting XI'}</td>\n",
       "      <td>1</td>\n",
       "      <td>{'id': 38, 'name': 'Tottenham Hotspur'}</td>\n",
       "      <td>{'id': 1, 'name': 'Regular Play'}</td>\n",
       "      <td>...</td>\n",
       "      <td>NaN</td>\n",
       "      <td>NaN</td>\n",
       "      <td>NaN</td>\n",
       "      <td>NaN</td>\n",
       "      <td>NaN</td>\n",
       "      <td>NaN</td>\n",
       "      <td>NaN</td>\n",
       "      <td>NaN</td>\n",
       "      <td>NaN</td>\n",
       "      <td>NaN</td>\n",
       "    </tr>\n",
       "    <tr>\n",
       "      <th>2</th>\n",
       "      <td>52cdf1be-4cbd-4026-b802-e5c3dce19e9c</td>\n",
       "      <td>3</td>\n",
       "      <td>1</td>\n",
       "      <td>2020-07-02</td>\n",
       "      <td>0</td>\n",
       "      <td>0</td>\n",
       "      <td>{'id': 18, 'name': 'Half Start'}</td>\n",
       "      <td>1</td>\n",
       "      <td>{'id': 38, 'name': 'Tottenham Hotspur'}</td>\n",
       "      <td>{'id': 1, 'name': 'Regular Play'}</td>\n",
       "      <td>...</td>\n",
       "      <td>NaN</td>\n",
       "      <td>NaN</td>\n",
       "      <td>NaN</td>\n",
       "      <td>NaN</td>\n",
       "      <td>NaN</td>\n",
       "      <td>NaN</td>\n",
       "      <td>NaN</td>\n",
       "      <td>NaN</td>\n",
       "      <td>NaN</td>\n",
       "      <td>NaN</td>\n",
       "    </tr>\n",
       "    <tr>\n",
       "      <th>3</th>\n",
       "      <td>97668e09-1ce7-4752-912c-b3a5a1bf6013</td>\n",
       "      <td>4</td>\n",
       "      <td>1</td>\n",
       "      <td>2020-07-02</td>\n",
       "      <td>0</td>\n",
       "      <td>0</td>\n",
       "      <td>{'id': 18, 'name': 'Half Start'}</td>\n",
       "      <td>1</td>\n",
       "      <td>{'id': 38, 'name': 'Tottenham Hotspur'}</td>\n",
       "      <td>{'id': 1, 'name': 'Regular Play'}</td>\n",
       "      <td>...</td>\n",
       "      <td>NaN</td>\n",
       "      <td>NaN</td>\n",
       "      <td>NaN</td>\n",
       "      <td>NaN</td>\n",
       "      <td>NaN</td>\n",
       "      <td>NaN</td>\n",
       "      <td>NaN</td>\n",
       "      <td>NaN</td>\n",
       "      <td>NaN</td>\n",
       "      <td>NaN</td>\n",
       "    </tr>\n",
       "  </tbody>\n",
       "</table>\n",
       "<p>4 rows × 36 columns</p>\n",
       "</div>"
      ],
      "text/plain": [
       "                                     id  index  period  timestamp  minute  \\\n",
       "0  c4341845-358d-43e7-9af4-9a39aa1d90f1      1       1 2020-07-02       0   \n",
       "1  6001a7ed-2c00-4cb4-ba33-7ac2b7d07c40      2       1 2020-07-02       0   \n",
       "2  52cdf1be-4cbd-4026-b802-e5c3dce19e9c      3       1 2020-07-02       0   \n",
       "3  97668e09-1ce7-4752-912c-b3a5a1bf6013      4       1 2020-07-02       0   \n",
       "\n",
       "   second                               type  possession  \\\n",
       "0       0  {'id': 35, 'name': 'Starting XI'}           1   \n",
       "1       0  {'id': 35, 'name': 'Starting XI'}           1   \n",
       "2       0   {'id': 18, 'name': 'Half Start'}           1   \n",
       "3       0   {'id': 18, 'name': 'Half Start'}           1   \n",
       "\n",
       "                           possession_team                       play_pattern  \\\n",
       "0  {'id': 38, 'name': 'Tottenham Hotspur'}  {'id': 1, 'name': 'Regular Play'}   \n",
       "1  {'id': 38, 'name': 'Tottenham Hotspur'}  {'id': 1, 'name': 'Regular Play'}   \n",
       "2  {'id': 38, 'name': 'Tottenham Hotspur'}  {'id': 1, 'name': 'Regular Play'}   \n",
       "3  {'id': 38, 'name': 'Tottenham Hotspur'}  {'id': 1, 'name': 'Regular Play'}   \n",
       "\n",
       "   ... clearance  foul_won interception ball_recovery counterpress out  \\\n",
       "0  ...       NaN       NaN          NaN           NaN          NaN NaN   \n",
       "1  ...       NaN       NaN          NaN           NaN          NaN NaN   \n",
       "2  ...       NaN       NaN          NaN           NaN          NaN NaN   \n",
       "3  ...       NaN       NaN          NaN           NaN          NaN NaN   \n",
       "\n",
       "  dribble 50_50 substitution block  \n",
       "0     NaN   NaN          NaN   NaN  \n",
       "1     NaN   NaN          NaN   NaN  \n",
       "2     NaN   NaN          NaN   NaN  \n",
       "3     NaN   NaN          NaN   NaN  \n",
       "\n",
       "[4 rows x 36 columns]"
      ]
     },
     "execution_count": 15,
     "metadata": {},
     "output_type": "execute_result"
    }
   ],
   "source": [
    "events_df.head(4)"
   ]
  },
  {
   "cell_type": "code",
   "execution_count": 19,
   "metadata": {},
   "outputs": [],
   "source": [
    "# list(events_df.iloc[33].reset_index().iloc[23])\n",
    "# events_df.iloc[33].reset_index()\n",
    "\"\"\"\n",
    "Function for type of play: goal, pass,etc\n",
    "\"\"\"\n",
    "def get_shot_type(type_dict):\n",
    "    return type_dict.get('name')"
   ]
  },
  {
   "cell_type": "code",
   "execution_count": 23,
   "metadata": {},
   "outputs": [],
   "source": [
    "# unpacking type column dictionary for knowing type of play.\n",
    "events_df['shot_type'] = events_df['type'].apply(get_shot_type)"
   ]
  },
  {
   "cell_type": "code",
   "execution_count": 32,
   "metadata": {},
   "outputs": [
    {
     "data": {
      "text/plain": [
       "'Shot'"
      ]
     },
     "execution_count": 32,
     "metadata": {},
     "output_type": "execute_result"
    }
   ],
   "source": [
    "events_df.iloc[33]['shot_type']"
   ]
  },
  {
   "cell_type": "code",
   "execution_count": 35,
   "metadata": {},
   "outputs": [],
   "source": [
    "total_shots_df = events_df[events_df['shot_type'] == 'Shot']"
   ]
  },
  {
   "cell_type": "code",
   "execution_count": 38,
   "metadata": {},
   "outputs": [],
   "source": [
    "# All shots in first half of the game. period = 1 .. 2nd half means period = 2\n",
    "first_half_shots = total_shots_df[total_shots_df['period'] == 1]"
   ]
  },
  {
   "cell_type": "code",
   "execution_count": 77,
   "metadata": {},
   "outputs": [],
   "source": [
    "shot_details_1st_df['start_location'] = pd.DataFrame(first_half_shots['location'])"
   ]
  },
  {
   "cell_type": "code",
   "execution_count": 78,
   "metadata": {},
   "outputs": [],
   "source": [
    "shot_details_1st_df['shot_details'] = pd.DataFrame(first_half_shots['shot'])"
   ]
  },
  {
   "cell_type": "code",
   "execution_count": 79,
   "metadata": {},
   "outputs": [
    {
     "data": {
      "text/html": [
       "<div>\n",
       "<style scoped>\n",
       "    .dataframe tbody tr th:only-of-type {\n",
       "        vertical-align: middle;\n",
       "    }\n",
       "\n",
       "    .dataframe tbody tr th {\n",
       "        vertical-align: top;\n",
       "    }\n",
       "\n",
       "    .dataframe thead th {\n",
       "        text-align: right;\n",
       "    }\n",
       "</style>\n",
       "<table border=\"1\" class=\"dataframe\">\n",
       "  <thead>\n",
       "    <tr style=\"text-align: right;\">\n",
       "      <th></th>\n",
       "      <th>location</th>\n",
       "      <th>shot_details</th>\n",
       "      <th>end_location</th>\n",
       "      <th>start_location</th>\n",
       "    </tr>\n",
       "  </thead>\n",
       "  <tbody>\n",
       "    <tr>\n",
       "      <th>33</th>\n",
       "      <td>[108.2, 40.1]</td>\n",
       "      <td>{'statsbomb_xg': 0.76, 'end_location': [120.0,...</td>\n",
       "      <td>[120.0, 42.5, 0.9]</td>\n",
       "      <td>[108.2, 40.1]</td>\n",
       "    </tr>\n",
       "    <tr>\n",
       "      <th>341</th>\n",
       "      <td>[91.9, 43.1]</td>\n",
       "      <td>{'statsbomb_xg': 0.022700306, 'end_location': ...</td>\n",
       "      <td>[120.0, 46.5, 5.2]</td>\n",
       "      <td>[91.9, 43.1]</td>\n",
       "    </tr>\n",
       "    <tr>\n",
       "      <th>586</th>\n",
       "      <td>[90.2, 59.3]</td>\n",
       "      <td>{'statsbomb_xg': 0.011111712000000001, 'end_lo...</td>\n",
       "      <td>[120.0, 34.7, 0.8]</td>\n",
       "      <td>[90.2, 59.3]</td>\n",
       "    </tr>\n",
       "    <tr>\n",
       "      <th>757</th>\n",
       "      <td>[95.2, 47.2]</td>\n",
       "      <td>{'statsbomb_xg': 0.038991462000000005, 'end_lo...</td>\n",
       "      <td>[99.7, 46.2]</td>\n",
       "      <td>[95.2, 47.2]</td>\n",
       "    </tr>\n",
       "    <tr>\n",
       "      <th>767</th>\n",
       "      <td>[113.0, 59.5]</td>\n",
       "      <td>{'statsbomb_xg': 0.014388007000000001, 'end_lo...</td>\n",
       "      <td>[113.2, 0.1]</td>\n",
       "      <td>[113.0, 59.5]</td>\n",
       "    </tr>\n",
       "  </tbody>\n",
       "</table>\n",
       "</div>"
      ],
      "text/plain": [
       "          location                                       shot_details  \\\n",
       "33   [108.2, 40.1]  {'statsbomb_xg': 0.76, 'end_location': [120.0,...   \n",
       "341   [91.9, 43.1]  {'statsbomb_xg': 0.022700306, 'end_location': ...   \n",
       "586   [90.2, 59.3]  {'statsbomb_xg': 0.011111712000000001, 'end_lo...   \n",
       "757   [95.2, 47.2]  {'statsbomb_xg': 0.038991462000000005, 'end_lo...   \n",
       "767  [113.0, 59.5]  {'statsbomb_xg': 0.014388007000000001, 'end_lo...   \n",
       "\n",
       "           end_location start_location  \n",
       "33   [120.0, 42.5, 0.9]  [108.2, 40.1]  \n",
       "341  [120.0, 46.5, 5.2]   [91.9, 43.1]  \n",
       "586  [120.0, 34.7, 0.8]   [90.2, 59.3]  \n",
       "757        [99.7, 46.2]   [95.2, 47.2]  \n",
       "767        [113.2, 0.1]  [113.0, 59.5]  "
      ]
     },
     "execution_count": 79,
     "metadata": {},
     "output_type": "execute_result"
    }
   ],
   "source": [
    "shot_details_1st_df.head()"
   ]
  },
  {
   "cell_type": "code",
   "execution_count": 83,
   "metadata": {},
   "outputs": [],
   "source": [
    "def get_shot_end_location(shot_details_dict):\n",
    "    return shot_details_dict.get('end_location')\n",
    "\n",
    "def get_shot_outcome(shot_details_dict):\n",
    "    return shot_details_dict.get('outcome')\n",
    "    \n",
    "def get_shot_type(shot_details_dict):\n",
    "    return shot_details_dict.get('type')"
   ]
  },
  {
   "cell_type": "code",
   "execution_count": 84,
   "metadata": {},
   "outputs": [],
   "source": [
    "shot_details_1st_df['end_location'] = shot_details_1st_df['shot_details'].apply(get_shot_end_location)"
   ]
  },
  {
   "cell_type": "code",
   "execution_count": 86,
   "metadata": {},
   "outputs": [],
   "source": [
    "shot_details_1st_df['outcome'] = shot_details_1st_df['shot_details'].apply(get_shot_outcome)"
   ]
  },
  {
   "cell_type": "code",
   "execution_count": 87,
   "metadata": {},
   "outputs": [],
   "source": [
    "shot_details_1st_df['type'] = shot_details_1st_df['shot_details'].apply(get_shot_type)"
   ]
  },
  {
   "cell_type": "code",
   "execution_count": 89,
   "metadata": {},
   "outputs": [],
   "source": [
    "shot_details_1st_df.drop(['location'], axis = 1 , inplace = True)"
   ]
  },
  {
   "cell_type": "code",
   "execution_count": 91,
   "metadata": {},
   "outputs": [
    {
     "data": {
      "text/html": [
       "<div>\n",
       "<style scoped>\n",
       "    .dataframe tbody tr th:only-of-type {\n",
       "        vertical-align: middle;\n",
       "    }\n",
       "\n",
       "    .dataframe tbody tr th {\n",
       "        vertical-align: top;\n",
       "    }\n",
       "\n",
       "    .dataframe thead th {\n",
       "        text-align: right;\n",
       "    }\n",
       "</style>\n",
       "<table border=\"1\" class=\"dataframe\">\n",
       "  <thead>\n",
       "    <tr style=\"text-align: right;\">\n",
       "      <th></th>\n",
       "      <th>shot_details</th>\n",
       "      <th>end_location</th>\n",
       "      <th>start_location</th>\n",
       "      <th>outcome</th>\n",
       "      <th>type</th>\n",
       "    </tr>\n",
       "  </thead>\n",
       "  <tbody>\n",
       "    <tr>\n",
       "      <th>33</th>\n",
       "      <td>{'statsbomb_xg': 0.76, 'end_location': [120.0,...</td>\n",
       "      <td>[120.0, 42.5, 0.9]</td>\n",
       "      <td>[108.2, 40.1]</td>\n",
       "      <td>{'id': 97, 'name': 'Goal'}</td>\n",
       "      <td>{'id': 88, 'name': 'Penalty'}</td>\n",
       "    </tr>\n",
       "    <tr>\n",
       "      <th>341</th>\n",
       "      <td>{'statsbomb_xg': 0.022700306, 'end_location': ...</td>\n",
       "      <td>[120.0, 46.5, 5.2]</td>\n",
       "      <td>[91.9, 43.1]</td>\n",
       "      <td>{'id': 98, 'name': 'Off T'}</td>\n",
       "      <td>{'id': 87, 'name': 'Open Play'}</td>\n",
       "    </tr>\n",
       "    <tr>\n",
       "      <th>586</th>\n",
       "      <td>{'statsbomb_xg': 0.011111712000000001, 'end_lo...</td>\n",
       "      <td>[120.0, 34.7, 0.8]</td>\n",
       "      <td>[90.2, 59.3]</td>\n",
       "      <td>{'id': 98, 'name': 'Off T'}</td>\n",
       "      <td>{'id': 87, 'name': 'Open Play'}</td>\n",
       "    </tr>\n",
       "    <tr>\n",
       "      <th>757</th>\n",
       "      <td>{'statsbomb_xg': 0.038991462000000005, 'end_lo...</td>\n",
       "      <td>[99.7, 46.2]</td>\n",
       "      <td>[95.2, 47.2]</td>\n",
       "      <td>{'id': 96, 'name': 'Blocked'}</td>\n",
       "      <td>{'id': 87, 'name': 'Open Play'}</td>\n",
       "    </tr>\n",
       "    <tr>\n",
       "      <th>767</th>\n",
       "      <td>{'statsbomb_xg': 0.014388007000000001, 'end_lo...</td>\n",
       "      <td>[113.2, 0.1]</td>\n",
       "      <td>[113.0, 59.5]</td>\n",
       "      <td>{'id': 101, 'name': 'Wayward'}</td>\n",
       "      <td>{'id': 87, 'name': 'Open Play'}</td>\n",
       "    </tr>\n",
       "    <tr>\n",
       "      <th>1346</th>\n",
       "      <td>{'statsbomb_xg': 0.012589856, 'end_location': ...</td>\n",
       "      <td>[118.3, 37.9, 2.4]</td>\n",
       "      <td>[98.4, 20.4]</td>\n",
       "      <td>{'id': 100, 'name': 'Saved'}</td>\n",
       "      <td>{'id': 87, 'name': 'Open Play'}</td>\n",
       "    </tr>\n",
       "    <tr>\n",
       "      <th>1352</th>\n",
       "      <td>{'statsbomb_xg': 0.02638541, 'end_location': [...</td>\n",
       "      <td>[120.0, 43.3, 6.4]</td>\n",
       "      <td>[97.6, 37.4]</td>\n",
       "      <td>{'id': 98, 'name': 'Off T'}</td>\n",
       "      <td>{'id': 87, 'name': 'Open Play'}</td>\n",
       "    </tr>\n",
       "    <tr>\n",
       "      <th>1401</th>\n",
       "      <td>{'statsbomb_xg': 0.015078909000000001, 'end_lo...</td>\n",
       "      <td>[96.1, 46.2]</td>\n",
       "      <td>[89.0, 47.9]</td>\n",
       "      <td>{'id': 96, 'name': 'Blocked'}</td>\n",
       "      <td>{'id': 87, 'name': 'Open Play'}</td>\n",
       "    </tr>\n",
       "    <tr>\n",
       "      <th>1422</th>\n",
       "      <td>{'statsbomb_xg': 0.01395537, 'end_location': [...</td>\n",
       "      <td>[97.2, 32.8]</td>\n",
       "      <td>[94.0, 31.3]</td>\n",
       "      <td>{'id': 96, 'name': 'Blocked'}</td>\n",
       "      <td>{'id': 87, 'name': 'Open Play'}</td>\n",
       "    </tr>\n",
       "    <tr>\n",
       "      <th>1560</th>\n",
       "      <td>{'statsbomb_xg': 0.03756312, 'end_location': [...</td>\n",
       "      <td>[120.0, 37.2, 6.0]</td>\n",
       "      <td>[96.1, 41.6]</td>\n",
       "      <td>{'id': 98, 'name': 'Off T'}</td>\n",
       "      <td>{'id': 87, 'name': 'Open Play'}</td>\n",
       "    </tr>\n",
       "  </tbody>\n",
       "</table>\n",
       "</div>"
      ],
      "text/plain": [
       "                                           shot_details        end_location  \\\n",
       "33    {'statsbomb_xg': 0.76, 'end_location': [120.0,...  [120.0, 42.5, 0.9]   \n",
       "341   {'statsbomb_xg': 0.022700306, 'end_location': ...  [120.0, 46.5, 5.2]   \n",
       "586   {'statsbomb_xg': 0.011111712000000001, 'end_lo...  [120.0, 34.7, 0.8]   \n",
       "757   {'statsbomb_xg': 0.038991462000000005, 'end_lo...        [99.7, 46.2]   \n",
       "767   {'statsbomb_xg': 0.014388007000000001, 'end_lo...        [113.2, 0.1]   \n",
       "1346  {'statsbomb_xg': 0.012589856, 'end_location': ...  [118.3, 37.9, 2.4]   \n",
       "1352  {'statsbomb_xg': 0.02638541, 'end_location': [...  [120.0, 43.3, 6.4]   \n",
       "1401  {'statsbomb_xg': 0.015078909000000001, 'end_lo...        [96.1, 46.2]   \n",
       "1422  {'statsbomb_xg': 0.01395537, 'end_location': [...        [97.2, 32.8]   \n",
       "1560  {'statsbomb_xg': 0.03756312, 'end_location': [...  [120.0, 37.2, 6.0]   \n",
       "\n",
       "     start_location                         outcome  \\\n",
       "33    [108.2, 40.1]      {'id': 97, 'name': 'Goal'}   \n",
       "341    [91.9, 43.1]     {'id': 98, 'name': 'Off T'}   \n",
       "586    [90.2, 59.3]     {'id': 98, 'name': 'Off T'}   \n",
       "757    [95.2, 47.2]   {'id': 96, 'name': 'Blocked'}   \n",
       "767   [113.0, 59.5]  {'id': 101, 'name': 'Wayward'}   \n",
       "1346   [98.4, 20.4]    {'id': 100, 'name': 'Saved'}   \n",
       "1352   [97.6, 37.4]     {'id': 98, 'name': 'Off T'}   \n",
       "1401   [89.0, 47.9]   {'id': 96, 'name': 'Blocked'}   \n",
       "1422   [94.0, 31.3]   {'id': 96, 'name': 'Blocked'}   \n",
       "1560   [96.1, 41.6]     {'id': 98, 'name': 'Off T'}   \n",
       "\n",
       "                                 type  \n",
       "33      {'id': 88, 'name': 'Penalty'}  \n",
       "341   {'id': 87, 'name': 'Open Play'}  \n",
       "586   {'id': 87, 'name': 'Open Play'}  \n",
       "757   {'id': 87, 'name': 'Open Play'}  \n",
       "767   {'id': 87, 'name': 'Open Play'}  \n",
       "1346  {'id': 87, 'name': 'Open Play'}  \n",
       "1352  {'id': 87, 'name': 'Open Play'}  \n",
       "1401  {'id': 87, 'name': 'Open Play'}  \n",
       "1422  {'id': 87, 'name': 'Open Play'}  \n",
       "1560  {'id': 87, 'name': 'Open Play'}  "
      ]
     },
     "execution_count": 91,
     "metadata": {},
     "output_type": "execute_result"
    }
   ],
   "source": [
    "shot_details_1st_df"
   ]
  },
  {
   "cell_type": "code",
   "execution_count": 95,
   "metadata": {},
   "outputs": [
    {
     "data": {
      "text/plain": [
       "10"
      ]
     },
     "execution_count": 95,
     "metadata": {},
     "output_type": "execute_result"
    }
   ],
   "source": [
    "len(shot_details_1st_df)"
   ]
  },
  {
   "cell_type": "code",
   "execution_count": 107,
   "metadata": {},
   "outputs": [
    {
     "name": "stdout",
     "output_type": "stream",
     "text": [
      "[108.2, 40.1]\n",
      "[91.9, 43.1]\n",
      "[90.2, 59.3]\n",
      "[95.2, 47.2]\n",
      "[113.0, 59.5]\n",
      "[98.4, 20.4]\n",
      "[97.6, 37.4]\n",
      "[89.0, 47.9]\n",
      "[94.0, 31.3]\n",
      "[96.1, 41.6]\n"
     ]
    }
   ],
   "source": [
    "# testing loop code\n",
    "for i,row in shot_details_1st_df.iterrows():\n",
    "#     print(i)\n",
    "    print(row['start_location'])"
   ]
  },
  {
   "cell_type": "markdown",
   "metadata": {},
   "source": [
    "# Colors for shot type:\n",
    "\n",
    "* goal : green\n",
    "* saved : red\n",
    "* blocked : yellow"
   ]
  },
  {
   "cell_type": "code",
   "execution_count": 108,
   "metadata": {},
   "outputs": [
    {
     "data": {
      "image/png": "[encoded data removed]",
      "text/plain": [
       "<Figure size 720x504 with 1 Axes>"
      ]
     },
     "metadata": {
      "needs_background": "light"
     },
     "output_type": "display_data"
    }
   ],
   "source": [
    "#Draw the pitch\n",
    "from FCPython import createPitch\n",
    "(fig,ax) = createPitch(pitchLengthX,pitchWidthY,'yards','gray')\n",
    "# Plot the shot\n",
    "circleSize = 2\n",
    "\n",
    "for i,row in shot_details_1st_df.iterrows():\n",
    "    x = row['start_location'][0] #108.2\n",
    "    y = row['start_location'][1]  #40.1\n",
    "    shotCircle = plt.Circle((x,y),circleSize,color = \"red\")\n",
    "    shotCircle.set_alpha(.2)\n",
    "    ax.add_patch(shotCircle)\n",
    "    \n",
    "    dx = row['end_location'][0] - x # 120\n",
    "    dy = row['end_location'][1] - y # 42.5\n",
    "    \n",
    "    if row['outcome'].get('name') == 'Goal' :\n",
    "        passArrow = plt.arrow(x, y, dx, dy, width = 0.5 ,color = \"green\")\n",
    "    elif row['outcome'].get('name') == 'Saved':\n",
    "        passArrow = plt.arrow(x, y, dx, dy, width = 0.5 ,color = \"red\")\n",
    "    elif row['outcome'].get('name') == 'Blocked':\n",
    "        passArrow = plt.arrow(x, y, dx, dy, width = 0.5 ,color = \"yellow\")\n",
    "    else:\n",
    "        passArrow = plt.arrow(x, y, dx, dy, width = 0.5 ,color = \"blue\")\n",
    "    \n",
    "    ax.add_patch(passArrow)        \n",
    "        \n",
    "\n",
    "fig.set_size_inches(10, 7)\n",
    "fig.savefig('Output/spursvslfc_ucl_final_1sthalf_goal.pdf', dpi=100) \n",
    "plt.show()"
   ]
  },
  {
   "cell_type": "code",
   "execution_count": null,
   "metadata": {},
   "outputs": [],
   "source": []
  },
  {
   "cell_type": "code",
   "execution_count": null,
   "metadata": {},
   "outputs": [],
   "source": []
  }
 ],
 "metadata": {
  "kernelspec": {
   "display_name": "Python 3",
   "language": "python",
   "name": "python3"
  },
  "language_info": {
   "codemirror_mode": {
    "name": "ipython",
    "version": 3
   },
   "file_extension": ".py",
   "mimetype": "text/x-python",
   "name": "python",
   "nbconvert_exporter": "python",
   "pygments_lexer": "ipython3",
   "version": "3.7.6"
  }
 },
 "nbformat": 4,
 "nbformat_minor": 4
}
